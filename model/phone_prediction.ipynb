{
 "cells": [
  {
   "cell_type": "markdown",
   "metadata": {},
   "source": [
    "# DATA CLEANING "
   ]
  },
  {
   "cell_type": "code",
   "execution_count": 948,
   "metadata": {},
   "outputs": [],
   "source": [
    "import pandas as pd\n",
    "import numpy as np\n",
    "import re\n"
   ]
  },
  {
   "cell_type": "code",
   "execution_count": 949,
   "metadata": {},
   "outputs": [],
   "source": [
    "phone_df = pd.read_csv('phone_price.csv')\n"
   ]
  },
  {
   "cell_type": "code",
   "execution_count": 950,
   "metadata": {},
   "outputs": [],
   "source": [
    "phone_df = phone_df.drop(['Name', 'Spec_score', 'Unnamed: 0', 'Rating', 'No_of_sim', 'Processor_name'], axis='columns')\n"
   ]
  },
  {
   "cell_type": "markdown",
   "metadata": {},
   "source": [
    "* FUNCTIONS "
   ]
  },
  {
   "cell_type": "code",
   "execution_count": 951,
   "metadata": {},
   "outputs": [],
   "source": [
    "\n",
    "def clean(clmn):\n",
    "    if isinstance(clmn, str) and clmn[0].isdigit():\n",
    "        try:\n",
    "            return float(clmn.split(' ')[0])\n",
    "        except ValueError:\n",
    "            return 0\n",
    "    else:\n",
    "        return 0\n",
    "    \n",
    "\n",
    "def clean_2(clmn):\n",
    "    if isinstance(clmn, str):\n",
    "        clmn = clmn.replace(\" \", \"\")\n",
    "        if clmn[0].isdigit():\n",
    "            try:\n",
    "                return float(clmn.split('W')[0])\n",
    "            except ValueError:\n",
    "                return 0\n",
    "    return 0\n",
    "\n",
    "def clean_3(clmn):\n",
    "    if isinstance(clmn, str):\n",
    "        clmn = clmn.strip().split(' ')\n",
    "        if len(clmn) > 1 and clmn[0].replace('.', '', 1).isdigit():\n",
    "            try:\n",
    "                memory_size = float(clmn[0])\n",
    "                if clmn[1].upper() == 'TB':\n",
    "                    return memory_size * 1000\n",
    "                elif clmn[1].upper() == 'GB':\n",
    "                    return memory_size\n",
    "            except (ValueError, IndexError):\n",
    "                return 0\n",
    "    return 0\n",
    "\n",
    "def clean_4(clmn):\n",
    "    if isinstance(clmn, str):\n",
    "        clmn = clmn.strip().split(' ')\n",
    "        if len(clmn) > 1 and clmn[-2].replace('.', '', 1).isdigit():\n",
    "            try:\n",
    "                memory_size = float(clmn[-2])\n",
    "                if clmn[-1].upper() == 'TB':\n",
    "                    return memory_size * 1000\n",
    "                elif clmn[-1].upper() == 'GB':\n",
    "                    return memory_size\n",
    "            except (ValueError, IndexError):\n",
    "                return 0\n",
    "    return 0\n",
    "\n",
    "def extract_camera_features(camera_str):\n",
    "    total_rear_mp, num_rear_cameras, max_rear_mp = 0, 0, 0\n",
    "    total_front_mp, num_front_cameras, max_front_mp = 0, 0, 0\n",
    "    try:\n",
    "        rear_part, front_part = camera_str.split('&')\n",
    "    except ValueError:\n",
    "        rear_part = camera_str\n",
    "        front_part = ''\n",
    "    rear_cameras = re.findall(r'(\\d+) MP', rear_part)\n",
    "    if rear_cameras:\n",
    "        rear_cameras = list(map(int, rear_cameras))\n",
    "        total_rear_mp = sum(rear_cameras)\n",
    "        num_rear_cameras = len(rear_cameras)\n",
    "        max_rear_mp = max(rear_cameras)\n",
    "    front_cameras = re.findall(r'(\\d+) MP', front_part)\n",
    "    if front_cameras:\n",
    "        front_cameras = list(map(int, front_cameras))\n",
    "        total_front_mp = sum(front_cameras)\n",
    "        num_front_cameras = len(front_cameras)\n",
    "        max_front_mp = max(front_cameras)\n",
    "    return {\n",
    "        'total_rear_mp': total_rear_mp,\n",
    "        'num_rear_cameras': num_rear_cameras,\n",
    "        'max_rear_mp': max_rear_mp,\n",
    "        'total_front_mp': total_front_mp,\n",
    "        'num_front_cameras': num_front_cameras,\n",
    "        'max_front_mp': max_front_mp\n",
    "    }\n",
    "\n",
    "def extract_processor_speed(processor_type):\n",
    "    match = re.search(r'([\\d\\.]+) GHz', processor_type)\n",
    "    if match:\n",
    "        return float(match.group(1))\n",
    "    else:\n",
    "        if 'Octa Core' in processor_type:\n",
    "            return 2.0\n",
    "        elif 'Quad Core' in processor_type:\n",
    "            return 1.5\n",
    "        elif 'Nine-Cores' in processor_type:\n",
    "            return 2.5\n",
    "        else:\n",
    "            return None\n"
   ]
  },
  {
   "cell_type": "markdown",
   "metadata": {},
   "source": [
    "* CLEANING \n"
   ]
  },
  {
   "cell_type": "code",
   "execution_count": 952,
   "metadata": {},
   "outputs": [],
   "source": [
    "phone_df = phone_df.reset_index(drop=True)\n",
    "phone_df['fast_charging'] = phone_df['fast_charging'].apply(clean_2)\n"
   ]
  },
  {
   "cell_type": "code",
   "execution_count": 953,
   "metadata": {},
   "outputs": [],
   "source": [
    "phone_df = phone_df.drop(phone_df[phone_df.fast_charging > 200.0].index)\n"
   ]
  },
  {
   "cell_type": "code",
   "execution_count": 954,
   "metadata": {},
   "outputs": [],
   "source": [
    "phone_df = phone_df.reset_index(drop=True)\n",
    "phone_df['Ram'] = phone_df['Ram'].apply(clean)\n",
    "phone_df = phone_df.drop(phone_df[phone_df.Ram == 0].index)\n",
    "phone_df = phone_df.drop(phone_df[phone_df.Ram > 24.0].index)\n"
   ]
  },
  {
   "cell_type": "code",
   "execution_count": 955,
   "metadata": {},
   "outputs": [],
   "source": [
    "phone_df = phone_df.reset_index(drop=True)\n",
    "phone_df['Battery'] = phone_df['Battery'].apply(clean)\n"
   ]
  },
  {
   "cell_type": "code",
   "execution_count": 956,
   "metadata": {},
   "outputs": [],
   "source": [
    "phone_df = phone_df.reset_index(drop=True)\n",
    "phone_df['Display'] = phone_df['Display'].apply(clean)\n",
    "phone_df = phone_df.drop(phone_df[phone_df.Display < 4].index)\n",
    "phone_df = phone_df.drop(phone_df[phone_df.Display > 8].index)\n"
   ]
  },
  {
   "cell_type": "code",
   "execution_count": 957,
   "metadata": {},
   "outputs": [],
   "source": [
    "phone_df = phone_df.reset_index(drop=True)\n",
    "phone_df['Inbuilt_memory'] = phone_df['Inbuilt_memory'].apply(clean_3)\n"
   ]
  },
  {
   "cell_type": "code",
   "execution_count": 958,
   "metadata": {},
   "outputs": [],
   "source": [
    "phone_df = phone_df.reset_index(drop=True)\n",
    "phone_df['External_Memory'] = phone_df['External_Memory'].apply(clean_4)\n"
   ]
  },
  {
   "cell_type": "code",
   "execution_count": 959,
   "metadata": {},
   "outputs": [],
   "source": [
    "camera_features = phone_df['Camera'].apply(extract_camera_features)\n",
    "camera_features_df = pd.DataFrame(camera_features.tolist())\n",
    "phone_df = pd.concat([phone_df, camera_features_df], axis=1)\n",
    "phone_df.drop('Camera', axis=1, inplace=True)\n"
   ]
  },
  {
   "cell_type": "code",
   "execution_count": 960,
   "metadata": {},
   "outputs": [],
   "source": [
    "phone_df['screen_width'] = phone_df['Screen_resolution'].str.extract(r'(\\d+) x \\d+').astype(float)\n",
    "phone_df['screen_height'] = phone_df['Screen_resolution'].str.extract(r'\\d+ x (\\d+)').astype(float)\n",
    "phone_df.drop('Screen_resolution', axis=1, inplace=True)\n"
   ]
  },
  {
   "cell_type": "code",
   "execution_count": 961,
   "metadata": {},
   "outputs": [],
   "source": [
    "phone_df.dropna(subset=['Processor'], inplace=True)\n",
    "phone_df.dropna(subset=['Android_version'], inplace=True)\n"
   ]
  },
  {
   "cell_type": "code",
   "execution_count": 962,
   "metadata": {},
   "outputs": [],
   "source": [
    "phone_df = phone_df.reset_index(drop=True)\n",
    "phone_df['Android_version'] = phone_df['Android_version'].apply(clean)\n",
    "phone_df = phone_df.drop(phone_df[phone_df.Android_version > 14].index)\n",
    "phone_df = phone_df.drop(phone_df[phone_df.Android_version < 6].index)\n"
   ]
  },
  {
   "cell_type": "code",
   "execution_count": 963,
   "metadata": {},
   "outputs": [],
   "source": [
    "phone_df = phone_df.drop(phone_df[phone_df.Inbuilt_memory < 16].index)\n"
   ]
  },
  {
   "cell_type": "code",
   "execution_count": 964,
   "metadata": {},
   "outputs": [],
   "source": [
    "phone_df['Processor_Speed'] = phone_df['Processor'].apply(extract_processor_speed)\n",
    "phone_df.drop('Processor', axis=1, inplace=True)\n"
   ]
  },
  {
   "cell_type": "code",
   "execution_count": 965,
   "metadata": {},
   "outputs": [],
   "source": [
    "dummies = pd.get_dummies(phone_df.company , drop_first=True)\n",
    "phone_df = pd.concat([phone_df, dummies], axis=1)\n"
   ]
  },
  {
   "cell_type": "code",
   "execution_count": 966,
   "metadata": {},
   "outputs": [],
   "source": [
    "phone_df['Price'] = phone_df['Price'].str.replace(',', '').astype(int)\n"
   ]
  },
  {
   "cell_type": "code",
   "execution_count": 967,
   "metadata": {},
   "outputs": [],
   "source": [
    "phone_df['Price_EUR'] = round(phone_df['Price'] / 90, 2)\n",
    "phone_df.drop('Price', axis=1, inplace=True)\n",
    "phone_df.drop('company', axis=1, inplace=True)\n"
   ]
  },
  {
   "cell_type": "code",
   "execution_count": 968,
   "metadata": {},
   "outputs": [],
   "source": [
    "phone_df = phone_df.fillna(0)\n"
   ]
  },
  {
   "cell_type": "markdown",
   "metadata": {},
   "source": [
    "# Training Model"
   ]
  },
  {
   "cell_type": "code",
   "execution_count": 969,
   "metadata": {},
   "outputs": [],
   "source": [
    "from sklearn.model_selection import train_test_split, cross_val_score\n",
    "import numpy as np\n",
    "from sklearn.ensemble import RandomForestRegressor\n",
    "\n"
   ]
  },
  {
   "cell_type": "code",
   "execution_count": 970,
   "metadata": {},
   "outputs": [],
   "source": [
    "X = phone_df.drop('Price_EUR', axis='columns')\n",
    "y = phone_df['Price_EUR']\n"
   ]
  },
  {
   "cell_type": "code",
   "execution_count": 971,
   "metadata": {},
   "outputs": [],
   "source": [
    "X_train, X_test, y_train, y_test = train_test_split(X,y,test_size=0.4,random_state=10)\n"
   ]
  },
  {
   "cell_type": "code",
   "execution_count": 972,
   "metadata": {},
   "outputs": [],
   "source": [
    "model = RandomForestRegressor(bootstrap=False,\n",
    "                                max_depth = 20,\n",
    "                                max_features='log2',\n",
    "                                min_samples_leaf = 1,\n",
    "                                min_samples_split = 10,\n",
    "                                n_estimators = 10).fit(X_train, y_train)\n"
   ]
  },
  {
   "cell_type": "code",
   "execution_count": 973,
   "metadata": {},
   "outputs": [
    {
     "data": {
      "text/plain": [
       "0.8580374341460292"
      ]
     },
     "execution_count": 973,
     "metadata": {},
     "output_type": "execute_result"
    }
   ],
   "source": [
    "model.score(X_test, y_test)\n"
   ]
  },
  {
   "cell_type": "markdown",
   "metadata": {},
   "source": [
    "* Saving Model"
   ]
  },
  {
   "cell_type": "code",
   "execution_count": 975,
   "metadata": {},
   "outputs": [],
   "source": [
    "import pickle\n",
    "\n",
    "pickle.dump(model, open('phone_price_model.sav', 'wb'))\n"
   ]
  },
  {
   "cell_type": "markdown",
   "metadata": {},
   "source": [
    "* Saving Columns"
   ]
  },
  {
   "cell_type": "code",
   "execution_count": 976,
   "metadata": {},
   "outputs": [],
   "source": [
    "import json\n",
    "columns = {\n",
    "    'data_columns' : [col.lower() for col in X.columns]\n",
    "}\n",
    "with open(\"columns.json\", 'w') as f:\n",
    "    f.write(json.dumps(columns)) \n"
   ]
  }
 ],
 "metadata": {
  "kernelspec": {
   "display_name": "Python 3",
   "language": "python",
   "name": "python3"
  },
  "language_info": {
   "codemirror_mode": {
    "name": "ipython",
    "version": 3
   },
   "file_extension": ".py",
   "mimetype": "text/x-python",
   "name": "python",
   "nbconvert_exporter": "python",
   "pygments_lexer": "ipython3",
   "version": "3.12.1"
  }
 },
 "nbformat": 4,
 "nbformat_minor": 2
}
